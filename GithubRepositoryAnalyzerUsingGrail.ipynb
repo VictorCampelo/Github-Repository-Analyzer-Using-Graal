{
  "nbformat": 4,
  "nbformat_minor": 0,
  "metadata": {
    "colab": {
      "name": "GithubRepositoryAnalyzerUsingGrail.ipynb",
      "private_outputs": true,
      "provenance": [],
      "collapsed_sections": [],
      "toc_visible": true,
      "authorship_tag": "ABX9TyMJVk2Kjx/fQwOt7uKkZ+PO",
      "include_colab_link": true
    },
    "kernelspec": {
      "name": "python3",
      "display_name": "Python 3"
    },
    "language_info": {
      "name": "python"
    },
    "accelerator": "GPU"
  },
  "cells": [
    {
      "cell_type": "markdown",
      "metadata": {
        "id": "view-in-github",
        "colab_type": "text"
      },
      "source": [
        "<a href=\"https://colab.research.google.com/github/VictorCampelo/Github-Repository-Analyzer-Using-Graal/blob/main/GithubRepositoryAnalyzerUsingGrail.ipynb\" target=\"_parent\"><img src=\"https://colab.research.google.com/assets/colab-badge.svg\" alt=\"Open In Colab\"/></a>"
      ]
    },
    {
      "cell_type": "markdown",
      "metadata": {
        "id": "C9a7MusPsFqT"
      },
      "source": [
        "# **Import & Configs**"
      ]
    },
    {
      "cell_type": "code",
      "metadata": {
        "id": "Oq5-QZyKnDYp"
      },
      "source": [
        "!pip3 install -q perceval\n",
        "!pip install -q graal\n",
        "!pip install -q simplejson execnet"
      ],
      "execution_count": null,
      "outputs": []
    },
    {
      "cell_type": "code",
      "metadata": {
        "id": "8AlMSQ1VakZB"
      },
      "source": [
        "\n",
        "!apt-get install cloc\n",
        "!apt-get install pkg-config libglib2.0-dev libjson-c-dev libpq-dev\n",
        "!git clone https://github.com/fossology/fossology\n",
        "!cd /content/fossology/src/nomos/agent\n",
        "!make -f Makefile.sa FO_LDFLAGS=\"-lglib-2.0 -lpq  -lglib-2.0 -ljson-c -lpthread -lrt\"\n",
        "!git clone https://github.com/nexB/scancode-toolkit.git\n",
        "!cd scancode-toolkit\n",
        "!git checkout -b test_scancli 96069fd84066c97549d54f66bd2fe8c7813c6b52\n",
        "!go get -u github.com/boyter/scc/\n",
        "%cd fossology/src/nomos/agent\n",
        "%ls\n",
        "!make -f Makefile.sa FO_LDFLAGS=\"-lglib-2.0 -lpq  -lglib-2.0 -ljson-c -lpthread -lrt\""
      ],
      "execution_count": null,
      "outputs": []
    },
    {
      "cell_type": "code",
      "metadata": {
        "id": "Rp6VKxYgdeNL"
      },
      "source": [
        "!rm -R /content/tmp/cqc\n",
        "!rm -R /content/tmp/graal_worktrees"
      ],
      "execution_count": null,
      "outputs": []
    },
    {
      "cell_type": "code",
      "metadata": {
        "id": "J_rh7Qlsb2fT"
      },
      "source": [
        "#! /usr/bin/env python3\n",
        "from graal.graal import Graal\n",
        "from graal.graal import GraalRepository\n",
        "from graal.backends.core.cocom import CoCom, RepositoryAnalyzer\n",
        "from graal.backends.core.coqua import CoQua, ModuleAnalyzer\n",
        "from graal.backends.core.colic import CoLic, LicenseAnalyzer\n",
        "from graal.backends.core.codep import CoDep, PyreverseAnalyzer\n",
        "from graal.backends.core.covuln import CoVuln, VulnAnalyzer\n",
        "from graal.backends.core.colang import CoLang\n",
        "from perceval.backends.core.git import Git \n",
        "import os\n",
        "import tempfile"
      ],
      "execution_count": null,
      "outputs": []
    },
    {
      "cell_type": "markdown",
      "metadata": {
        "id": "E1t4q3AuVSoJ"
      },
      "source": [
        "# **Initialize variables**"
      ]
    },
    {
      "cell_type": "code",
      "metadata": {
        "id": "uruCBqXJLjUC"
      },
      "source": [
        "SCC_FILE = 'scc_file'\n",
        "SCC_REPOSITORY = 'scc_repository'\n",
        "\n",
        "LIZARD_FILE = 'lizard_file'\n",
        "LIZARD_REPOSITORY = 'lizard_repository'\n",
        "\n",
        "CATEGORY_COCOM_LIZARD_FILE = 'code_complexity_' + LIZARD_FILE\n",
        "CATEGORY_COCOM_LIZARD_REPOSITORY = 'code_complexity_' + LIZARD_REPOSITORY\n",
        "\n",
        "CATEGORY_COCOM_SCC_FILE = 'code_complexity_' + SCC_FILE\n",
        "CATEGORY_COCOM_SCC_REPOSITORY = 'code_complexity_' + SCC_REPOSITORY"
      ],
      "execution_count": null,
      "outputs": []
    },
    {
      "cell_type": "code",
      "metadata": {
        "id": "sURsFRjDXTFS"
      },
      "source": [
        "CLOC = \"cloc\"\n",
        "LINGUIST = \"linguist\"\n",
        "\n",
        "CATEGORY_COLANG_CLOC = \"code_language_\" + CLOC\n",
        "CATEGORY_COLANG_LINGUIST = \"code_language_\" + LINGUIST"
      ],
      "execution_count": null,
      "outputs": []
    },
    {
      "cell_type": "code",
      "metadata": {
        "id": "m2ZFUAzvMKaF"
      },
      "source": [
        "NOMOS_PATH = \"/content/fossology/src/nomos/agent/nomossa\"\n",
        "SCANCODE_PATH = \"/content/scancode-toolkit/scancode\"\n",
        "SCANCODE_CLI_PATH = \"/home/runner/work/grimoirelab-graal/grimoirelab-graal/exec/scancode-toolkit/etc/scripts/scancli.py\"\n",
        "JADOLINT_PATH = \"//home/runner/work/grimoirelab-graal/grimoirelab-graal/exec/jadolint.jar\""
      ],
      "execution_count": null,
      "outputs": []
    },
    {
      "cell_type": "code",
      "metadata": {
        "id": "wXaAN3nVJXUN"
      },
      "source": [
        "PYLINT = \"pylint\"\n",
        "FLAKE8 = \"flake8\"\n",
        "JADOLINT = \"jadolint\"\n",
        "\n",
        "CATEGORY_COQUA_PYLINT = 'code_quality_' + PYLINT\n",
        "CATEGORY_COQUA_FLAKE8 = 'code_quality_' + FLAKE8\n",
        "CATEGORY_COQUA_JADOLINT = 'code_quality_' + JADOLINT"
      ],
      "execution_count": null,
      "outputs": []
    },
    {
      "cell_type": "code",
      "metadata": {
        "id": "qiTUcnsrKoQW"
      },
      "source": [
        "worktree_path = '/content/tmp/worktree'\n",
        "\n",
        "# URL for the git repo to analyze\n",
        "repo_uri = 'https://github.com/MagiCircles/SchoolIdolAPI'\n",
        "\n",
        "# directory where to mirror the repo\n",
        "tmp_path = '/content/tmp'\n",
        "repo_name = 'cqc'\n",
        "\n",
        "git_path = os.path.join(tmp_path, repo_name)\n",
        "worktree_path = os.path.join(tmp_path, 'graal_worktrees')\n",
        "\n",
        "# Getting the current work directory (cwd)\n",
        "thisdir = '/content/tmp/graal_worktrees/'"
      ],
      "execution_count": null,
      "outputs": []
    },
    {
      "cell_type": "code",
      "metadata": {
        "id": "EERDeU6DzDsZ"
      },
      "source": [
        ""
      ],
      "execution_count": null,
      "outputs": []
    },
    {
      "cell_type": "markdown",
      "metadata": {
        "id": "04QKx1TAr-YK"
      },
      "source": [
        "# **Perceval**"
      ]
    },
    {
      "cell_type": "code",
      "metadata": {
        "id": "G0PwQ7e9oKxo"
      },
      "source": [
        "gt = Git(uri=repo_uri, gitpath=git_path)\n",
        "\n",
        "commits = [commit for commit in gt.fetch()]"
      ],
      "execution_count": null,
      "outputs": []
    },
    {
      "cell_type": "code",
      "metadata": {
        "id": "Y8nI5qcYpke5"
      },
      "source": [
        "commits[-1]"
      ],
      "execution_count": null,
      "outputs": []
    },
    {
      "cell_type": "markdown",
      "metadata": {
        "id": "rx3dY1GTo1TO"
      },
      "source": [
        "# **Graal**"
      ]
    },
    {
      "cell_type": "code",
      "metadata": {
        "id": "wivDB56-o_vR"
      },
      "source": [
        "grl = Graal(uri=repo_uri, gitpath=git_path)\n",
        "\n",
        "# fetch all commits\n",
        "commits = [commit for commit in grl.fetch()]"
      ],
      "execution_count": null,
      "outputs": []
    },
    {
      "cell_type": "code",
      "metadata": {
        "id": "j55GjrgGQEWA"
      },
      "source": [
        "rep = GraalRepository(uri=repo_uri,dirpath=git_path)\n",
        "\n",
        "# create worktree\n",
        "rep.worktree(worktree_path)"
      ],
      "execution_count": null,
      "outputs": []
    },
    {
      "cell_type": "markdown",
      "metadata": {
        "id": "oM1jcojdLZFm"
      },
      "source": [
        "## **CoCom**"
      ]
    },
    {
      "cell_type": "code",
      "metadata": {
        "id": "4A5mIMoua92M"
      },
      "source": [
        "# Cocom object initialization\n",
        "cc = CoCom(uri=repo_uri, git_path=git_path)\n",
        "\n",
        "# fetch all commits\n",
        "commits_cc = []\n",
        "for commit in cc.fetch(category=CATEGORY_COCOM_LIZARD_FILE):\n",
        "  print(commit)\n",
        "  commits_cc.append(commit)\n",
        "#commits_cc = [commit for commit in cc.fetch()]"
      ],
      "execution_count": null,
      "outputs": []
    },
    {
      "cell_type": "code",
      "metadata": {
        "id": "hgeu_xygbnMx"
      },
      "source": [
        "commits_cc[1]"
      ],
      "execution_count": null,
      "outputs": []
    },
    {
      "cell_type": "markdown",
      "metadata": {
        "id": "Rjm34o48Leid"
      },
      "source": [
        "## **CoQua**"
      ]
    },
    {
      "cell_type": "code",
      "metadata": {
        "id": "Eic1nYRIIXq9"
      },
      "source": [
        "cq = CoQua(uri=repo_uri, \n",
        "           git_path=git_path,\n",
        "           entrypoint='.')\n",
        "\n",
        "# fetch all commits\n",
        "commits_cq = [commit for commit in cq.fetch(category=CATEGORY_COQUA_FLAKE8)]"
      ],
      "execution_count": null,
      "outputs": []
    },
    {
      "cell_type": "code",
      "metadata": {
        "id": "ljWEXAIqbi5K"
      },
      "source": [
        "commits_cq[-1]"
      ],
      "execution_count": null,
      "outputs": []
    },
    {
      "cell_type": "markdown",
      "metadata": {
        "id": "BFFnHUf3LkUO"
      },
      "source": [
        "## **CoLic**"
      ]
    },
    {
      "cell_type": "code",
      "metadata": {
        "id": "MUSbIPbJL7yr"
      },
      "source": [
        "cl = CoLic(uri=repo_uri, git_path=git_path, exec_path=NOMOS_PATH)\n",
        "\n",
        "# fetch all commits\n",
        "commits_cl = [commit for commit in cl.fetch()]"
      ],
      "execution_count": null,
      "outputs": []
    },
    {
      "cell_type": "code",
      "metadata": {
        "id": "ba1F6ES9S50H"
      },
      "source": [
        "commits_cl[-1]"
      ],
      "execution_count": null,
      "outputs": []
    },
    {
      "cell_type": "markdown",
      "metadata": {
        "id": "785xqdEnSl0Q"
      },
      "source": [
        "## **CoDep**"
      ]
    },
    {
      "cell_type": "code",
      "metadata": {
        "id": "y9xRexxHTdyt"
      },
      "source": [
        "cd = CoDep(uri=repo_uri, \n",
        "           git_path=git_path, \n",
        "           entrypoint=\".\")\n",
        "\n",
        "# fetch all commits\n",
        "commits_cd = [commit for commit in cd.fetch()]"
      ],
      "execution_count": null,
      "outputs": []
    },
    {
      "cell_type": "code",
      "metadata": {
        "id": "X86_t4vXbshY"
      },
      "source": [
        "commits_cd[-1]"
      ],
      "execution_count": null,
      "outputs": []
    },
    {
      "cell_type": "markdown",
      "metadata": {
        "id": "tBcK1C3mUPQn"
      },
      "source": [
        "## **CoVuln**"
      ]
    },
    {
      "cell_type": "code",
      "metadata": {
        "id": "fRDHWinsUU5P"
      },
      "source": [
        "cv = CoVuln(uri=repo_uri, \n",
        "            git_path=git_path, \n",
        "            worktreepath=worktree_path, \n",
        "            entrypoint='.')\n",
        "\n",
        "# fetch all commits\n",
        "commits_cv = [commit for commit in cv.fetch()]"
      ],
      "execution_count": null,
      "outputs": []
    },
    {
      "cell_type": "code",
      "metadata": {
        "id": "lD2I9sErbuhI"
      },
      "source": [
        "commits_cv[-1]"
      ],
      "execution_count": null,
      "outputs": []
    },
    {
      "cell_type": "markdown",
      "metadata": {
        "id": "dDQod4pEV0eO"
      },
      "source": [
        "## **CoLang**"
      ]
    },
    {
      "cell_type": "code",
      "metadata": {
        "id": "_TicxTwXW1Lh"
      },
      "source": [
        "cg = CoLang(uri=repo_uri, git_path=git_path)\n",
        "\n",
        "# fetch all commits_\n",
        "commits_cg = [commit for commit in cg.fetch(category=CATEGORY_COLANG_CLOC)]"
      ],
      "execution_count": null,
      "outputs": []
    },
    {
      "cell_type": "code",
      "metadata": {
        "id": "LlkY0lPy3doe"
      },
      "source": [
        "commits_cg[-1]"
      ],
      "execution_count": null,
      "outputs": []
    },
    {
      "cell_type": "markdown",
      "metadata": {
        "id": "wiTv_tyQ3M-C"
      },
      "source": [
        "# **Study of new methods**"
      ]
    },
    {
      "cell_type": "markdown",
      "metadata": {
        "id": "3hiza7P53hM7"
      },
      "source": [
        "## **Code complexity**"
      ]
    },
    {
      "cell_type": "code",
      "metadata": {
        "id": "90Ia-GkM5URo"
      },
      "source": [
        "!rm -rf /content/tmp/SchoolIdolAPI/"
      ],
      "execution_count": null,
      "outputs": []
    },
    {
      "cell_type": "code",
      "metadata": {
        "id": "QP7uPSrrcNDm"
      },
      "source": [
        "import git\n",
        "git.Git(tmp_path).clone(\"git://github.com/MagiCircles/SchoolIdolAPI.git\")\n",
        "\n",
        "# r=root, d=directories, f = files\n",
        "myfiles = []\n",
        "for r, d, f in os.walk('/content/tmp/SchoolIdolAPI'):\n",
        "  if d == 'static':\n",
        "    print(d)\n",
        "  for file in f:\n",
        "    if file.endswith(\".py\"):\n",
        "      fl = os.path.join(r, file)\n",
        "      myfiles.append(fl)\n",
        "\n",
        "\n",
        "a = RepositoryAnalyzer(details=True)\n",
        "my = [an for an in a.analyze('/content/tmp/SchoolIdolAPI', files_affected=myfiles)]"
      ],
      "execution_count": null,
      "outputs": []
    },
    {
      "cell_type": "code",
      "metadata": {
        "id": "eIXFc3s6350z"
      },
      "source": [
        "my[1]"
      ],
      "execution_count": null,
      "outputs": []
    },
    {
      "cell_type": "code",
      "metadata": {
        "id": "GzNQhXFy8vU-"
      },
      "source": [
        "pip install -q flake8"
      ],
      "execution_count": null,
      "outputs": []
    },
    {
      "cell_type": "markdown",
      "metadata": {
        "id": "OLMK07KI_S98"
      },
      "source": [
        "## **Code quality checker**\n",
        "\n",
        "- https://flake8.pycqa.org/"
      ]
    },
    {
      "cell_type": "code",
      "metadata": {
        "id": "FF7Zb34e940k"
      },
      "source": [
        "from flake8.api import legacy as flake8\n",
        "\n",
        "style_guide = flake8.get_style_guide(\n",
        "    ignore=['E24', 'W5'],\n",
        "    select=['E', 'W', 'F', 'C'],\n",
        "    format='pylint',\n",
        ")\n",
        "\n",
        "report = style_guide.check_files(myfiles)"
      ],
      "execution_count": null,
      "outputs": []
    },
    {
      "cell_type": "code",
      "metadata": {
        "id": "hb3vtHGt98dY"
      },
      "source": [
        "report.get_statistics('F')"
      ],
      "execution_count": null,
      "outputs": []
    },
    {
      "cell_type": "markdown",
      "metadata": {
        "id": "dM3jSbTHEelE"
      },
      "source": [
        "## **Licenses checker**"
      ]
    },
    {
      "cell_type": "code",
      "metadata": {
        "id": "CAN0apUcD2Ps"
      },
      "source": [
        "colic_analyzer = LicenseAnalyzer(exec_path=NOMOS_PATH)"
      ],
      "execution_count": null,
      "outputs": []
    },
    {
      "cell_type": "code",
      "metadata": {
        "id": "8dLMTW4yFhFT"
      },
      "source": [
        "anlz = []\n",
        "for file in myfiles:\n",
        "  anlz.append(colic_analyzer.analyze(file))"
      ],
      "execution_count": null,
      "outputs": []
    },
    {
      "cell_type": "code",
      "metadata": {
        "id": "U2owAJrlGR_U"
      },
      "source": [
        "anlz"
      ],
      "execution_count": null,
      "outputs": []
    },
    {
      "cell_type": "markdown",
      "metadata": {
        "id": "sdJTF5NRGoK4"
      },
      "source": [
        "## **Dependecies ckecker**"
      ]
    },
    {
      "cell_type": "code",
      "metadata": {
        "id": "vKdt5W5lGS70"
      },
      "source": [
        "codep_analyzer = PyreverseAnalyzer()"
      ],
      "execution_count": null,
      "outputs": []
    },
    {
      "cell_type": "code",
      "metadata": {
        "id": "44eezKnoHOfu"
      },
      "source": [
        "anlz2 = []\n",
        "for file in myfiles:\n",
        "  anlz2.append(codep_analyzer.analyze(file))"
      ],
      "execution_count": null,
      "outputs": []
    },
    {
      "cell_type": "code",
      "metadata": {
        "id": "h5gxnv7cHaWU"
      },
      "source": [
        "anlz2"
      ],
      "execution_count": null,
      "outputs": []
    },
    {
      "cell_type": "markdown",
      "metadata": {
        "id": "SsOXev76IViO"
      },
      "source": [
        "## **vulnerabilities checker**"
      ]
    },
    {
      "cell_type": "code",
      "metadata": {
        "id": "RiKZWesoIVH1"
      },
      "source": [
        "coVul_analyzer = VulnAnalyzer(details=True)"
      ],
      "execution_count": null,
      "outputs": []
    },
    {
      "cell_type": "code",
      "metadata": {
        "id": "XAImG8yYKmy4"
      },
      "source": [
        "anlz3 = []\n",
        "for file in myfiles:\n",
        "  anlz3.append(coVul_analyzer.analyze(file))"
      ],
      "execution_count": null,
      "outputs": []
    },
    {
      "cell_type": "code",
      "metadata": {
        "id": "fFrDLJlEKyqI"
      },
      "source": [
        "anlz3"
      ],
      "execution_count": null,
      "outputs": []
    }
  ]
}