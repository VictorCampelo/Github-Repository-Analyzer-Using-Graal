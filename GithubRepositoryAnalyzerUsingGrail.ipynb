{
  "nbformat": 4,
  "nbformat_minor": 0,
  "metadata": {
    "colab": {
      "name": "GithubRepositoryAnalyzerUsingGrail.ipynb",
      "private_outputs": true,
      "provenance": [],
      "collapsed_sections": [],
      "toc_visible": true,
      "authorship_tag": "ABX9TyNwmoVmFG+DgshCMHeZaKzt",
      "include_colab_link": true
    },
    "kernelspec": {
      "name": "python3",
      "display_name": "Python 3"
    },
    "language_info": {
      "name": "python"
    }
  },
  "cells": [
    {
      "cell_type": "markdown",
      "metadata": {
        "id": "view-in-github",
        "colab_type": "text"
      },
      "source": [
        "<a href=\"https://colab.research.google.com/github/VictorCampelo/Github-Repository-Analyzer-Usingl-Graal/blob/main/GithubRepositoryAnalyzerUsingGrail.ipynb\" target=\"_parent\"><img src=\"https://colab.research.google.com/assets/colab-badge.svg\" alt=\"Open In Colab\"/></a>"
      ]
    },
    {
      "cell_type": "code",
      "metadata": {
        "id": "8AlMSQ1VakZB"
      },
      "source": [
        "!pip install graal\n",
        "!apt-get install cloc\n",
        "!apt-get install pkg-config libglib2.0-dev libjson-c-dev libpq-dev\n",
        "!git clone https://github.com/fossology/fossology\n",
        "!cd /content/fossology/src/nomos/agent\n",
        "!make -f Makefile.sa FO_LDFLAGS=\"-lglib-2.0 -lpq  -lglib-2.0 -ljson-c -lpthread -lrt\"\n",
        "!git clone https://github.com/nexB/scancode-toolkit.git\n",
        "!cd scancode-toolkit\n",
        "!git checkout -b test_scancli 96069fd84066c97549d54f66bd2fe8c7813c6b52\n",
        "!pip install simplejson execnet\n",
        "!go get -u github.com/boyter/scc/\n",
        "%cd fossology/src/nomos/agent\n",
        "%ls\n",
        "!make -f Makefile.sa FO_LDFLAGS=\"-lglib-2.0 -lpq  -lglib-2.0 -ljson-c -lpthread -lrt\""
      ],
      "execution_count": null,
      "outputs": []
    },
    {
      "cell_type": "code",
      "metadata": {
        "id": "Rp6VKxYgdeNL"
      },
      "source": [
        "!rm -R /content/tmp/cqc\n",
        "!rm -R /content/tmp/graal_worktrees"
      ],
      "execution_count": null,
      "outputs": []
    },
    {
      "cell_type": "markdown",
      "metadata": {
        "id": "E1t4q3AuVSoJ"
      },
      "source": [
        "# **Initialize variables**"
      ]
    },
    {
      "cell_type": "code",
      "metadata": {
        "id": "m2ZFUAzvMKaF"
      },
      "source": [
        "NOMOS_PATH = \"/content/fossology/src/nomos/agent/nomossa\"\n",
        "SCANCODE_PATH = \"/content/scancode-toolkit/scancode\"\n",
        "SCANCODE_CLI_PATH = \"/home/runner/work/grimoirelab-graal/grimoirelab-graal/exec/scancode-toolkit/etc/scripts/scancli.py\"\n",
        "JADOLINT_PATH = \"//home/runner/work/grimoirelab-graal/grimoirelab-graal/exec/jadolint.jar\""
      ],
      "execution_count": null,
      "outputs": []
    },
    {
      "cell_type": "code",
      "metadata": {
        "id": "qiTUcnsrKoQW"
      },
      "source": [
        "import os\n",
        "import tempfile\n",
        "\n",
        "worktree_path = '/content/tmp/worktree'\n",
        "\n",
        "# URL for the git repo to analyze\n",
        "repo_uri = 'https://github.com/xcatliu/cqc'\n",
        "\n",
        "# directory where to mirror the repo\n",
        "tmp_path = '/content/tmp'\n",
        "repo_name = 'cqc'\n",
        "\n",
        "git_path = os.path.join(tmp_path, repo_name)\n",
        "worktree_path = os.path.join(tmp_path, 'graal_worktrees')"
      ],
      "execution_count": null,
      "outputs": []
    },
    {
      "cell_type": "markdown",
      "metadata": {
        "id": "rx3dY1GTo1TO"
      },
      "source": [
        "# **Graal**"
      ]
    },
    {
      "cell_type": "code",
      "metadata": {
        "id": "J_rh7Qlsb2fT"
      },
      "source": [
        "#! /usr/bin/env python3\n",
        "from graal.graal import Graal"
      ],
      "execution_count": null,
      "outputs": []
    },
    {
      "cell_type": "code",
      "metadata": {
        "id": "wivDB56-o_vR"
      },
      "source": [
        "grl = Graal(uri=repo_uri, gitpath=git_path)\n",
        "\n",
        "# fetch all commits\n",
        "commits = [commit for commit in grl.fetch()]"
      ],
      "execution_count": null,
      "outputs": []
    },
    {
      "cell_type": "code",
      "metadata": {
        "id": "j55GjrgGQEWA"
      },
      "source": [
        "from graal.graal import GraalRepository\n",
        "\n",
        "rep = GraalRepository(uri=repo_uri,dirpath=git_path)\n",
        "\n",
        "rep.worktree(worktree_path)"
      ],
      "execution_count": null,
      "outputs": []
    },
    {
      "cell_type": "markdown",
      "metadata": {
        "id": "voc3diXbVcV3"
      },
      "source": [
        "# **Methods**"
      ]
    },
    {
      "cell_type": "markdown",
      "metadata": {
        "id": "oM1jcojdLZFm"
      },
      "source": [
        "## **CoCom**"
      ]
    },
    {
      "cell_type": "code",
      "metadata": {
        "id": "nJ-Jam3LjtHy"
      },
      "source": [
        "#! /usr/bin/env python3\n",
        "from graal.backends.core.cocom import CoCom"
      ],
      "execution_count": null,
      "outputs": []
    },
    {
      "cell_type": "code",
      "metadata": {
        "id": "4A5mIMoua92M"
      },
      "source": [
        "# Cocom object initialization\n",
        "cc = CoCom(uri=repo_uri, git_path=git_path)\n",
        "\n",
        "# fetch all commits\n",
        "commits = [commit for commit in cc.fetch()]"
      ],
      "execution_count": null,
      "outputs": []
    },
    {
      "cell_type": "code",
      "metadata": {
        "id": "hgeu_xygbnMx"
      },
      "source": [
        "commits[1]"
      ],
      "execution_count": null,
      "outputs": []
    },
    {
      "cell_type": "markdown",
      "metadata": {
        "id": "Rjm34o48Leid"
      },
      "source": [
        "## **CoQua**"
      ]
    },
    {
      "cell_type": "code",
      "metadata": {
        "id": "kONtVjKJLzAd"
      },
      "source": [
        "#! /usr/bin/env python3\n",
        "from graal.backends.core.coqua import CoQua"
      ],
      "execution_count": null,
      "outputs": []
    },
    {
      "cell_type": "code",
      "metadata": {
        "id": "wXaAN3nVJXUN"
      },
      "source": [
        "PYLINT = \"pylint\"\n",
        "FLAKE8 = \"flake8\"\n",
        "JADOLINT = \"jadolint\"\n",
        "\n",
        "CATEGORY_COQUA_PYLINT = 'code_quality_' + PYLINT\n",
        "CATEGORY_COQUA_FLAKE8 = 'code_quality_' + FLAKE8\n",
        "CATEGORY_COQUA_JADOLINT = 'code_quality_' + JADOLINT"
      ],
      "execution_count": null,
      "outputs": []
    },
    {
      "cell_type": "code",
      "metadata": {
        "id": "Eic1nYRIIXq9"
      },
      "source": [
        "cq = CoQua(uri=repo_uri, \n",
        "           git_path=git_path,\n",
        "           entrypoint='src')\n",
        "\n",
        "# fetch all commits\n",
        "commits = [commit for commit in cq.fetch(category=CATEGORY_COQUA_PYLINT)]"
      ],
      "execution_count": null,
      "outputs": []
    },
    {
      "cell_type": "code",
      "metadata": {
        "id": "ljWEXAIqbi5K"
      },
      "source": [
        "commits[55]"
      ],
      "execution_count": null,
      "outputs": []
    },
    {
      "cell_type": "markdown",
      "metadata": {
        "id": "BFFnHUf3LkUO"
      },
      "source": [
        "## **CoLic**"
      ]
    },
    {
      "cell_type": "code",
      "metadata": {
        "id": "j6ENZ4HJL1h0"
      },
      "source": [
        "#! /usr/bin/env python3\n",
        "from graal.backends.core.colic import CoLic"
      ],
      "execution_count": null,
      "outputs": []
    },
    {
      "cell_type": "code",
      "metadata": {
        "id": "MUSbIPbJL7yr"
      },
      "source": [
        "cl = CoLic(uri=repo_uri, git_path=git_path, exec_path=NOMOS_PATH)\n",
        "\n",
        "# fetch all commits\n",
        "commits = [commit for commit in cl.fetch()]"
      ],
      "execution_count": null,
      "outputs": []
    },
    {
      "cell_type": "code",
      "metadata": {
        "id": "ba1F6ES9S50H"
      },
      "source": [
        "commits[55]"
      ],
      "execution_count": null,
      "outputs": []
    },
    {
      "cell_type": "markdown",
      "metadata": {
        "id": "785xqdEnSl0Q"
      },
      "source": [
        "## **CoDep**"
      ]
    },
    {
      "cell_type": "code",
      "metadata": {
        "id": "ko-VQCHWSph6"
      },
      "source": [
        "#! /usr/bin/env python3\n",
        "from graal.backends.core.codep import CoDep"
      ],
      "execution_count": null,
      "outputs": []
    },
    {
      "cell_type": "code",
      "metadata": {
        "id": "y9xRexxHTdyt"
      },
      "source": [
        "entry1=\"unknown\"\n",
        "entry2=\"perceval\"\n",
        "entry3=\"module\"\n",
        "\n",
        "cd = CoDep(uri=repo_uri, \n",
        "           git_path=git_path, \n",
        "           entrypoint=\"src\")\n",
        "\n",
        "# fetch all commits\n",
        "commits = [commit for commit in cd.fetch()]"
      ],
      "execution_count": null,
      "outputs": []
    },
    {
      "cell_type": "code",
      "metadata": {
        "id": "X86_t4vXbshY"
      },
      "source": [
        "commits[55]"
      ],
      "execution_count": null,
      "outputs": []
    },
    {
      "cell_type": "markdown",
      "metadata": {
        "id": "tBcK1C3mUPQn"
      },
      "source": [
        "## **CoVuln**"
      ]
    },
    {
      "cell_type": "code",
      "metadata": {
        "id": "YEnGGf8fUSr2"
      },
      "source": [
        "#! /usr/bin/env python3\n",
        "from graal.backends.core.covuln import CoVuln"
      ],
      "execution_count": null,
      "outputs": []
    },
    {
      "cell_type": "code",
      "metadata": {
        "id": "fRDHWinsUU5P"
      },
      "source": [
        "entry1=\"unknown\"\n",
        "entry2=\"perceval\"\n",
        "\n",
        "cv = CoVuln(uri=repo_uri, \n",
        "            git_path=git_path, \n",
        "            worktreepath=worktree_path, \n",
        "            entrypoint='src')\n",
        "\n",
        "# fetch all commits\n",
        "commits = [commit for commit in cv.fetch()]"
      ],
      "execution_count": null,
      "outputs": []
    },
    {
      "cell_type": "code",
      "metadata": {
        "id": "lD2I9sErbuhI"
      },
      "source": [
        "commits[55]"
      ],
      "execution_count": null,
      "outputs": []
    },
    {
      "cell_type": "markdown",
      "metadata": {
        "id": "dDQod4pEV0eO"
      },
      "source": [
        "## **CoLang**"
      ]
    },
    {
      "cell_type": "code",
      "metadata": {
        "id": "KMDdUdQAV2iu"
      },
      "source": [
        "#! /usr/bin/env python3\n",
        "from graal.backends.core.colang import CoLang"
      ],
      "execution_count": null,
      "outputs": []
    },
    {
      "cell_type": "code",
      "metadata": {
        "id": "sURsFRjDXTFS"
      },
      "source": [
        "CLOC = \"cloc\"\n",
        "LINGUIST = \"linguist\"\n",
        "\n",
        "CATEGORY_COLANG_CLOC = \"code_language_\" + CLOC\n",
        "CATEGORY_COLANG_LINGUIST = \"code_language_\" + LINGUIST"
      ],
      "execution_count": null,
      "outputs": []
    },
    {
      "cell_type": "code",
      "metadata": {
        "id": "_TicxTwXW1Lh"
      },
      "source": [
        "entry1=\"unknown\"\n",
        "entry2=\"perceval\"\n",
        "\n",
        "cla = CoLang(uri=repo_uri, git_path=git_path)\n",
        "\n",
        "# fetch all commits\n",
        "commits = [commit for commit in cla.fetch(category=CATEGORY_COLANG_CLOC)]"
      ],
      "execution_count": null,
      "outputs": []
    },
    {
      "cell_type": "code",
      "metadata": {
        "id": "LlkY0lPy3doe"
      },
      "source": [
        "commits[55]"
      ],
      "execution_count": null,
      "outputs": []
    }
  ]
}